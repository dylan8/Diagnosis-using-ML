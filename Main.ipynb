{
 "cells": [
  {
   "cell_type": "code",
   "execution_count": 1,
   "metadata": {},
   "outputs": [],
   "source": [
    "#Dylan Kearns 16385613\n",
    "\n",
    "import pandas as pd\n",
    "import numpy as np\n",
    "import collections\n",
    "from sklearn.feature_selection import mutual_info_classif\n",
    "from sklearn.metrics import accuracy_score\n",
    "from sklearn.ensemble import GradientBoostingClassifier\n",
    "from sklearn.model_selection import cross_val_score\n",
    "from sklearn.metrics import accuracy_score"
   ]
  },
  {
   "cell_type": "code",
   "execution_count": 2,
   "metadata": {},
   "outputs": [],
   "source": [
    "test_data = pd.read_csv('SPECTF_test.csv')\n",
    "train_data = pd.read_csv('SPECTF_train.csv')"
   ]
  },
  {
   "cell_type": "code",
   "execution_count": 3,
   "metadata": {},
   "outputs": [
    {
     "data": {
      "text/html": [
       "<div>\n",
       "<style scoped>\n",
       "    .dataframe tbody tr th:only-of-type {\n",
       "        vertical-align: middle;\n",
       "    }\n",
       "\n",
       "    .dataframe tbody tr th {\n",
       "        vertical-align: top;\n",
       "    }\n",
       "\n",
       "    .dataframe thead th {\n",
       "        text-align: right;\n",
       "    }\n",
       "</style>\n",
       "<table border=\"1\" class=\"dataframe\">\n",
       "  <thead>\n",
       "    <tr style=\"text-align: right;\">\n",
       "      <th></th>\n",
       "      <th>DIAGNOSIS</th>\n",
       "      <th>F1R</th>\n",
       "      <th>F1S</th>\n",
       "      <th>F2R</th>\n",
       "      <th>F2S</th>\n",
       "      <th>F3R</th>\n",
       "      <th>F3S</th>\n",
       "      <th>F4R</th>\n",
       "      <th>F4S</th>\n",
       "      <th>F5R</th>\n",
       "      <th>...</th>\n",
       "      <th>F18R</th>\n",
       "      <th>F18S</th>\n",
       "      <th>F19R</th>\n",
       "      <th>F19S</th>\n",
       "      <th>F20R</th>\n",
       "      <th>F20S</th>\n",
       "      <th>F21R</th>\n",
       "      <th>F21S</th>\n",
       "      <th>F22R</th>\n",
       "      <th>F22S</th>\n",
       "    </tr>\n",
       "  </thead>\n",
       "  <tbody>\n",
       "    <tr>\n",
       "      <th>0</th>\n",
       "      <td>1</td>\n",
       "      <td>59</td>\n",
       "      <td>52</td>\n",
       "      <td>70</td>\n",
       "      <td>67</td>\n",
       "      <td>73</td>\n",
       "      <td>66</td>\n",
       "      <td>72</td>\n",
       "      <td>61</td>\n",
       "      <td>58</td>\n",
       "      <td>...</td>\n",
       "      <td>66</td>\n",
       "      <td>56</td>\n",
       "      <td>62</td>\n",
       "      <td>56</td>\n",
       "      <td>72</td>\n",
       "      <td>62</td>\n",
       "      <td>74</td>\n",
       "      <td>74</td>\n",
       "      <td>64</td>\n",
       "      <td>67</td>\n",
       "    </tr>\n",
       "    <tr>\n",
       "      <th>1</th>\n",
       "      <td>1</td>\n",
       "      <td>72</td>\n",
       "      <td>62</td>\n",
       "      <td>69</td>\n",
       "      <td>67</td>\n",
       "      <td>78</td>\n",
       "      <td>82</td>\n",
       "      <td>74</td>\n",
       "      <td>65</td>\n",
       "      <td>69</td>\n",
       "      <td>...</td>\n",
       "      <td>65</td>\n",
       "      <td>71</td>\n",
       "      <td>63</td>\n",
       "      <td>60</td>\n",
       "      <td>69</td>\n",
       "      <td>73</td>\n",
       "      <td>67</td>\n",
       "      <td>71</td>\n",
       "      <td>56</td>\n",
       "      <td>58</td>\n",
       "    </tr>\n",
       "  </tbody>\n",
       "</table>\n",
       "<p>2 rows × 45 columns</p>\n",
       "</div>"
      ],
      "text/plain": [
       "   DIAGNOSIS  F1R  F1S  F2R  F2S  F3R  F3S  F4R  F4S  F5R  ...  F18R  F18S  \\\n",
       "0          1   59   52   70   67   73   66   72   61   58  ...    66    56   \n",
       "1          1   72   62   69   67   78   82   74   65   69  ...    65    71   \n",
       "\n",
       "   F19R  F19S  F20R  F20S  F21R  F21S  F22R  F22S  \n",
       "0    62    56    72    62    74    74    64    67  \n",
       "1    63    60    69    73    67    71    56    58  \n",
       "\n",
       "[2 rows x 45 columns]"
      ]
     },
     "execution_count": 3,
     "metadata": {},
     "output_type": "execute_result"
    }
   ],
   "source": [
    "train_data.head(2)"
   ]
  },
  {
   "cell_type": "code",
   "execution_count": 4,
   "metadata": {},
   "outputs": [],
   "source": [
    "y = train_data.pop('DIAGNOSIS').values\n",
    "X = train_data.values"
   ]
  },
  {
   "cell_type": "code",
   "execution_count": 5,
   "metadata": {},
   "outputs": [
    {
     "data": {
      "text/plain": [
       "GradientBoostingClassifier(ccp_alpha=0.0, criterion='friedman_mse', init=None,\n",
       "                           learning_rate=0.1, loss='deviance', max_depth=3,\n",
       "                           max_features=None, max_leaf_nodes=None,\n",
       "                           min_impurity_decrease=0.0, min_impurity_split=None,\n",
       "                           min_samples_leaf=1, min_samples_split=2,\n",
       "                           min_weight_fraction_leaf=0.0, n_estimators=100,\n",
       "                           n_iter_no_change=None, presort='deprecated',\n",
       "                           random_state=None, subsample=1.0, tol=0.0001,\n",
       "                           validation_fraction=0.1, verbose=0,\n",
       "                           warm_start=False)"
      ]
     },
     "execution_count": 5,
     "metadata": {},
     "output_type": "execute_result"
    }
   ],
   "source": [
    "gb_classifier = GradientBoostingClassifier()\n",
    "gb_classifier.fit(X,y)"
   ]
  },
  {
   "cell_type": "code",
   "execution_count": 6,
   "metadata": {},
   "outputs": [
    {
     "name": "stdout",
     "output_type": "stream",
     "text": [
      "4x CV Accuracy GB: 0.80\n"
     ]
    },
    {
     "data": {
      "text/plain": [
       "array([0.65, 0.8 , 0.8 , 0.95])"
      ]
     },
     "execution_count": 6,
     "metadata": {},
     "output_type": "execute_result"
    }
   ],
   "source": [
    "train_score = cross_val_score(gb_classifier, X, y, cv=4)\n",
    "print(\"4x CV Accuracy GB: {0:.2f}\".format(train_score.mean()))\n",
    "train_score"
   ]
  },
  {
   "cell_type": "code",
   "execution_count": 7,
   "metadata": {},
   "outputs": [],
   "source": [
    "y_test_data = test_data.pop('DIAGNOSIS').values\n",
    "X_test_data = test_data.values\n",
    "y_predicted = gb_classifier.predict(X_test_data)\n"
   ]
  },
  {
   "cell_type": "code",
   "execution_count": 8,
   "metadata": {},
   "outputs": [
    {
     "name": "stdout",
     "output_type": "stream",
     "text": [
      "0.7219251336898396\n"
     ]
    }
   ],
   "source": [
    "accuracy = accuracy_score(y_test_data,y_predicted)\n",
    "print(accuracy)"
   ]
  },
  {
   "cell_type": "code",
   "execution_count": 9,
   "metadata": {},
   "outputs": [],
   "source": [
    "data = {'Train Accuracy':[train_score.mean()], 'Test Accuracy' :[accuracy]}\n",
    "df = pd.DataFrame(data) "
   ]
  },
  {
   "cell_type": "markdown",
   "metadata": {},
   "source": [
    "## Info gain"
   ]
  },
  {
   "cell_type": "code",
   "execution_count": 10,
   "metadata": {},
   "outputs": [],
   "source": [
    "from sklearn.feature_selection import mutual_info_classif\n",
    "from sklearn.feature_selection import SelectKBest"
   ]
  },
  {
   "cell_type": "code",
   "execution_count": 11,
   "metadata": {},
   "outputs": [],
   "source": [
    "mi = dict()\n",
    "\n",
    "i_scores = mutual_info_classif(X, y)\n",
    "\n",
    "for i,j in zip(train_data.columns,i_scores):\n",
    "    mi[i]=j\n",
    "\n",
    "df1 = pd.DataFrame.from_dict(mi,orient='index',columns=['I-Gain'])\n",
    "df1.sort_values(by=['I-Gain'],ascending=False,inplace=True)"
   ]
  },
  {
   "cell_type": "code",
   "execution_count": 12,
   "metadata": {
    "scrolled": true
   },
   "outputs": [
    {
     "data": {
      "image/png": "[encoded data removed]",
      "text/plain": [
       "<Figure size 432x288 with 1 Axes>"
      ]
     },
     "metadata": {
      "needs_background": "light"
     },
     "output_type": "display_data"
    }
   ],
   "source": [
    "import matplotlib.pyplot as plt\n",
    "%matplotlib inline\n",
    "\n",
    "n = len(df1.index)\n",
    "rr = range(1,n)\n",
    "fig, ax = plt.subplots()\n",
    "ax.bar(df1.index, df1[\"I-Gain\"], label='I-Gain',width=.35)\n",
    "ax.set_xticklabels(list(df1.index), rotation = 90)\n",
    "ax.set_xlabel('Features')\n",
    "ax.set_ylabel('I-Gain')\n",
    "ax.legend()\n",
    "\n",
    "plt.show()"
   ]
  },
  {
   "cell_type": "code",
   "execution_count": 13,
   "metadata": {},
   "outputs": [
    {
     "data": {
      "text/html": [
       "<div>\n",
       "<style scoped>\n",
       "    .dataframe tbody tr th:only-of-type {\n",
       "        vertical-align: middle;\n",
       "    }\n",
       "\n",
       "    .dataframe tbody tr th {\n",
       "        vertical-align: top;\n",
       "    }\n",
       "\n",
       "    .dataframe thead th {\n",
       "        text-align: right;\n",
       "    }\n",
       "</style>\n",
       "<table border=\"1\" class=\"dataframe\">\n",
       "  <thead>\n",
       "    <tr style=\"text-align: right;\">\n",
       "      <th></th>\n",
       "      <th>I-Gain</th>\n",
       "      <th>Accuracy</th>\n",
       "    </tr>\n",
       "  </thead>\n",
       "  <tbody>\n",
       "    <tr>\n",
       "      <th>F21R</th>\n",
       "      <td>0.201767</td>\n",
       "      <td>0.641711</td>\n",
       "    </tr>\n",
       "    <tr>\n",
       "      <th>F15S</th>\n",
       "      <td>0.169330</td>\n",
       "      <td>0.647059</td>\n",
       "    </tr>\n",
       "    <tr>\n",
       "      <th>F2S</th>\n",
       "      <td>0.156893</td>\n",
       "      <td>0.732620</td>\n",
       "    </tr>\n",
       "    <tr>\n",
       "      <th>F6S</th>\n",
       "      <td>0.151614</td>\n",
       "      <td>0.679144</td>\n",
       "    </tr>\n",
       "    <tr>\n",
       "      <th>F20S</th>\n",
       "      <td>0.141514</td>\n",
       "      <td>0.732620</td>\n",
       "    </tr>\n",
       "    <tr>\n",
       "      <th>F13R</th>\n",
       "      <td>0.129475</td>\n",
       "      <td>0.737968</td>\n",
       "    </tr>\n",
       "    <tr>\n",
       "      <th>F14S</th>\n",
       "      <td>0.115057</td>\n",
       "      <td>0.721925</td>\n",
       "    </tr>\n",
       "    <tr>\n",
       "      <th>F20R</th>\n",
       "      <td>0.095185</td>\n",
       "      <td>0.754011</td>\n",
       "    </tr>\n",
       "    <tr>\n",
       "      <th>F13S</th>\n",
       "      <td>0.093900</td>\n",
       "      <td>0.721925</td>\n",
       "    </tr>\n",
       "    <tr>\n",
       "      <th>F16R</th>\n",
       "      <td>0.088208</td>\n",
       "      <td>0.775401</td>\n",
       "    </tr>\n",
       "    <tr>\n",
       "      <th>F21S</th>\n",
       "      <td>0.083390</td>\n",
       "      <td>0.705882</td>\n",
       "    </tr>\n",
       "    <tr>\n",
       "      <th>F9R</th>\n",
       "      <td>0.080874</td>\n",
       "      <td>0.737968</td>\n",
       "    </tr>\n",
       "    <tr>\n",
       "      <th>F5R</th>\n",
       "      <td>0.080839</td>\n",
       "      <td>0.732620</td>\n",
       "    </tr>\n",
       "    <tr>\n",
       "      <th>F2R</th>\n",
       "      <td>0.080052</td>\n",
       "      <td>0.754011</td>\n",
       "    </tr>\n",
       "    <tr>\n",
       "      <th>F11R</th>\n",
       "      <td>0.079900</td>\n",
       "      <td>0.673797</td>\n",
       "    </tr>\n",
       "  </tbody>\n",
       "</table>\n",
       "</div>"
      ],
      "text/plain": [
       "        I-Gain  Accuracy\n",
       "F21R  0.201767  0.641711\n",
       "F15S  0.169330  0.647059\n",
       "F2S   0.156893  0.732620\n",
       "F6S   0.151614  0.679144\n",
       "F20S  0.141514  0.732620\n",
       "F13R  0.129475  0.737968\n",
       "F14S  0.115057  0.721925\n",
       "F20R  0.095185  0.754011\n",
       "F13S  0.093900  0.721925\n",
       "F16R  0.088208  0.775401\n",
       "F21S  0.083390  0.705882\n",
       "F9R   0.080874  0.737968\n",
       "F5R   0.080839  0.732620\n",
       "F2R   0.080052  0.754011\n",
       "F11R  0.079900  0.673797"
      ]
     },
     "execution_count": 13,
     "metadata": {},
     "output_type": "execute_result"
    }
   ],
   "source": [
    "acc_scores = []\n",
    "for kk in range(1, X.shape[1]+1):\n",
    "    FS_trans = SelectKBest(mutual_info_classif, \n",
    "                           k=kk).fit(X, y)\n",
    "    X_tR_new = FS_trans.transform(X)\n",
    "    X_tS_new = FS_trans.transform(X_test_data)\n",
    "    gb_train = gb_classifier.fit(X_tR_new, y)\n",
    "    y_dash = gb_train.predict(X_tS_new)\n",
    "    acc = accuracy_score(y_test_data, y_dash)\n",
    "    acc_scores.append(acc)\n",
    "\n",
    "df1['Accuracy'] = acc_scores\n",
    "df1.head(15)"
   ]
  },
  {
   "cell_type": "code",
   "execution_count": 14,
   "metadata": {},
   "outputs": [
    {
     "data": {
      "image/png": "[encoded data removed]",
      "text/plain": [
       "<Figure size 432x288 with 2 Axes>"
      ]
     },
     "metadata": {
      "needs_background": "light"
     },
     "output_type": "display_data"
    }
   ],
   "source": [
    "import matplotlib.pyplot as plt\n",
    "%matplotlib inline\n",
    "\n",
    "n = len(df1.index)\n",
    "rr = range(1,n)\n",
    "fig, ax = plt.subplots()\n",
    "ax2 = ax.twinx()\n",
    "ax.bar(df1.index, df1[\"I-Gain\"], label='I-Gain',width=.35)\n",
    "ax2.plot(df1.index, df1[\"Accuracy\"], color='red', label='Accuracy')\n",
    "ax.set_xticklabels(list(df1.index), rotation = 90)\n",
    "ax.set_xlabel('Features')\n",
    "ax.set_ylabel('I-Gain')\n",
    "ax2.set_ylabel('Accuracy')\n",
    "ax.legend()\n",
    "\n",
    "plt.show()"
   ]
  },
  {
   "cell_type": "code",
   "execution_count": 15,
   "metadata": {},
   "outputs": [],
   "source": [
    "#this function finds the max point of accuracy in the features and then puts all the features before it into a list\n",
    "top_n = list()\n",
    "for index,row in df1.iterrows():\n",
    "    if row['Accuracy'] == max(acc_scores):\n",
    "        top_n.append(index)\n",
    "        break\n",
    "    else:\n",
    "        top_n.append(index)"
   ]
  },
  {
   "cell_type": "code",
   "execution_count": 16,
   "metadata": {},
   "outputs": [],
   "source": [
    "top_n_df_train = train_data[top_n]"
   ]
  },
  {
   "cell_type": "code",
   "execution_count": 17,
   "metadata": {},
   "outputs": [
    {
     "data": {
      "text/html": [
       "<div>\n",
       "<style scoped>\n",
       "    .dataframe tbody tr th:only-of-type {\n",
       "        vertical-align: middle;\n",
       "    }\n",
       "\n",
       "    .dataframe tbody tr th {\n",
       "        vertical-align: top;\n",
       "    }\n",
       "\n",
       "    .dataframe thead th {\n",
       "        text-align: right;\n",
       "    }\n",
       "</style>\n",
       "<table border=\"1\" class=\"dataframe\">\n",
       "  <thead>\n",
       "    <tr style=\"text-align: right;\">\n",
       "      <th></th>\n",
       "      <th>F21R</th>\n",
       "      <th>F15S</th>\n",
       "      <th>F2S</th>\n",
       "      <th>F6S</th>\n",
       "      <th>F20S</th>\n",
       "      <th>F13R</th>\n",
       "      <th>F14S</th>\n",
       "      <th>F20R</th>\n",
       "      <th>F13S</th>\n",
       "      <th>F16R</th>\n",
       "    </tr>\n",
       "  </thead>\n",
       "  <tbody>\n",
       "    <tr>\n",
       "      <th>0</th>\n",
       "      <td>74</td>\n",
       "      <td>54</td>\n",
       "      <td>67</td>\n",
       "      <td>71</td>\n",
       "      <td>62</td>\n",
       "      <td>63</td>\n",
       "      <td>54</td>\n",
       "      <td>72</td>\n",
       "      <td>64</td>\n",
       "      <td>76</td>\n",
       "    </tr>\n",
       "    <tr>\n",
       "      <th>1</th>\n",
       "      <td>67</td>\n",
       "      <td>69</td>\n",
       "      <td>67</td>\n",
       "      <td>70</td>\n",
       "      <td>73</td>\n",
       "      <td>74</td>\n",
       "      <td>70</td>\n",
       "      <td>69</td>\n",
       "      <td>69</td>\n",
       "      <td>72</td>\n",
       "    </tr>\n",
       "    <tr>\n",
       "      <th>2</th>\n",
       "      <td>61</td>\n",
       "      <td>59</td>\n",
       "      <td>64</td>\n",
       "      <td>71</td>\n",
       "      <td>55</td>\n",
       "      <td>53</td>\n",
       "      <td>68</td>\n",
       "      <td>64</td>\n",
       "      <td>37</td>\n",
       "      <td>72</td>\n",
       "    </tr>\n",
       "  </tbody>\n",
       "</table>\n",
       "</div>"
      ],
      "text/plain": [
       "   F21R  F15S  F2S  F6S  F20S  F13R  F14S  F20R  F13S  F16R\n",
       "0    74    54   67   71    62    63    54    72    64    76\n",
       "1    67    69   67   70    73    74    70    69    69    72\n",
       "2    61    59   64   71    55    53    68    64    37    72"
      ]
     },
     "execution_count": 17,
     "metadata": {},
     "output_type": "execute_result"
    }
   ],
   "source": [
    "top_n_df_train.head(3)"
   ]
  },
  {
   "cell_type": "code",
   "execution_count": 18,
   "metadata": {},
   "outputs": [
    {
     "name": "stdout",
     "output_type": "stream",
     "text": [
      "4x CV Accuracy GB info gain: 0.78\n"
     ]
    }
   ],
   "source": [
    "X_info_gain = top_n_df_train.values\n",
    "gb_classifier.fit(X_info_gain,y)\n",
    "\n",
    "info_gain_train_score = cross_val_score(gb_classifier, X_info_gain, y, cv=5)\n",
    "print(\"4x CV Accuracy GB info gain: {0:.2f}\".format(info_gain_train_score.mean()))"
   ]
  },
  {
   "cell_type": "markdown",
   "metadata": {},
   "source": [
    "## Info gain with test data"
   ]
  },
  {
   "cell_type": "code",
   "execution_count": 19,
   "metadata": {},
   "outputs": [],
   "source": [
    "X_test_data2 = test_data[top_n].values"
   ]
  },
  {
   "cell_type": "code",
   "execution_count": 20,
   "metadata": {},
   "outputs": [],
   "source": [
    "y_predicted = gb_classifier.predict(X_test_data2)"
   ]
  },
  {
   "cell_type": "code",
   "execution_count": 21,
   "metadata": {},
   "outputs": [
    {
     "name": "stdout",
     "output_type": "stream",
     "text": [
      "0.7165775401069518\n"
     ]
    }
   ],
   "source": [
    "accuracy = accuracy_score(y_test_data,y_predicted)\n",
    "print(accuracy)"
   ]
  },
  {
   "cell_type": "code",
   "execution_count": 22,
   "metadata": {},
   "outputs": [
    {
     "data": {
      "text/html": [
       "<div>\n",
       "<style scoped>\n",
       "    .dataframe tbody tr th:only-of-type {\n",
       "        vertical-align: middle;\n",
       "    }\n",
       "\n",
       "    .dataframe tbody tr th {\n",
       "        vertical-align: top;\n",
       "    }\n",
       "\n",
       "    .dataframe thead th {\n",
       "        text-align: right;\n",
       "    }\n",
       "</style>\n",
       "<table border=\"1\" class=\"dataframe\">\n",
       "  <thead>\n",
       "    <tr style=\"text-align: right;\">\n",
       "      <th></th>\n",
       "      <th>Train Accuracy</th>\n",
       "      <th>Test Accuracy</th>\n",
       "    </tr>\n",
       "  </thead>\n",
       "  <tbody>\n",
       "    <tr>\n",
       "      <th>0</th>\n",
       "      <td>0.775</td>\n",
       "      <td>0.716578</td>\n",
       "    </tr>\n",
       "  </tbody>\n",
       "</table>\n",
       "</div>"
      ],
      "text/plain": [
       "   Train Accuracy  Test Accuracy\n",
       "0           0.775       0.716578"
      ]
     },
     "execution_count": 22,
     "metadata": {},
     "output_type": "execute_result"
    }
   ],
   "source": [
    "data = {'Train Accuracy':[info_gain_train_score.mean()], 'Test Accuracy' :[accuracy]}\n",
    "df_ig = pd.DataFrame(data) \n",
    "df_ig"
   ]
  },
  {
   "cell_type": "markdown",
   "metadata": {},
   "source": [
    "## Forward sequential search"
   ]
  },
  {
   "cell_type": "code",
   "execution_count": 23,
   "metadata": {},
   "outputs": [],
   "source": [
    "from mlxtend.feature_selection import SequentialFeatureSelector as SFS"
   ]
  },
  {
   "cell_type": "code",
   "execution_count": 24,
   "metadata": {},
   "outputs": [
    {
     "name": "stderr",
     "output_type": "stream",
     "text": [
      "[Parallel(n_jobs=-1)]: Using backend LokyBackend with 8 concurrent workers.\n",
      "[Parallel(n_jobs=-1)]: Done  44 out of  44 | elapsed:    6.1s finished\n",
      "Features: 1/10[Parallel(n_jobs=-1)]: Using backend LokyBackend with 8 concurrent workers.\n",
      "[Parallel(n_jobs=-1)]: Done  43 out of  43 | elapsed:    4.3s finished\n",
      "Features: 2/10[Parallel(n_jobs=-1)]: Using backend LokyBackend with 8 concurrent workers.\n",
      "[Parallel(n_jobs=-1)]: Done  42 out of  42 | elapsed:    4.4s finished\n",
      "Features: 3/10[Parallel(n_jobs=-1)]: Using backend LokyBackend with 8 concurrent workers.\n",
      "[Parallel(n_jobs=-1)]: Done  41 out of  41 | elapsed:    3.9s finished\n",
      "Features: 4/10[Parallel(n_jobs=-1)]: Using backend LokyBackend with 8 concurrent workers.\n",
      "[Parallel(n_jobs=-1)]: Done  40 out of  40 | elapsed:    3.8s finished\n",
      "Features: 5/10[Parallel(n_jobs=-1)]: Using backend LokyBackend with 8 concurrent workers.\n",
      "[Parallel(n_jobs=-1)]: Done  39 out of  39 | elapsed:    3.8s finished\n",
      "Features: 6/10[Parallel(n_jobs=-1)]: Using backend LokyBackend with 8 concurrent workers.\n",
      "[Parallel(n_jobs=-1)]: Done  38 out of  38 | elapsed:    3.8s finished\n",
      "Features: 7/10[Parallel(n_jobs=-1)]: Using backend LokyBackend with 8 concurrent workers.\n",
      "[Parallel(n_jobs=-1)]: Done  37 out of  37 | elapsed:    3.9s finished\n",
      "Features: 8/10[Parallel(n_jobs=-1)]: Using backend LokyBackend with 8 concurrent workers.\n",
      "[Parallel(n_jobs=-1)]: Done  36 out of  36 | elapsed:    3.7s finished\n",
      "Features: 9/10[Parallel(n_jobs=-1)]: Using backend LokyBackend with 8 concurrent workers.\n",
      "[Parallel(n_jobs=-1)]: Done  35 out of  35 | elapsed:    4.6s finished\n",
      "Features: 10/10"
     ]
    }
   ],
   "source": [
    "#I've selected 10 features to save on computation time, I am aware you can set it to 'best' and it will return the subsets it\n",
    "# deems to be the best without any limit\n",
    "sfs_forward = SFS(gb_classifier, \n",
    "                  k_features=10, \n",
    "                  forward=True, \n",
    "                  floating=False, \n",
    "                  verbose=1,\n",
    "                  scoring='accuracy',\n",
    "                  cv=4, n_jobs = -1)\n",
    "\n",
    "sfs_forward = sfs_forward.fit(X, y)"
   ]
  },
  {
   "cell_type": "code",
   "execution_count": 25,
   "metadata": {},
   "outputs": [
    {
     "name": "stdout",
     "output_type": "stream",
     "text": [
      "Selected features: (4, 8, 16, 17, 21, 23, 29, 33, 36, 37)\n"
     ]
    }
   ],
   "source": [
    "print('Selected features:', sfs_forward.k_feature_idx_)\n",
    "selected_features = sfs_forward.k_feature_idx_"
   ]
  },
  {
   "cell_type": "code",
   "execution_count": 26,
   "metadata": {},
   "outputs": [],
   "source": [
    "selected_features = np.asarray(selected_features)"
   ]
  },
  {
   "cell_type": "code",
   "execution_count": 27,
   "metadata": {},
   "outputs": [],
   "source": [
    "X_test_data1 = test_data.iloc[ : , selected_features].values\n",
    "X_sfs =  train_data.iloc[ : , selected_features].values"
   ]
  },
  {
   "cell_type": "code",
   "execution_count": 28,
   "metadata": {},
   "outputs": [
    {
     "name": "stdout",
     "output_type": "stream",
     "text": [
      "4x CV Accuracy gbc on train data: 0.89\n"
     ]
    }
   ],
   "source": [
    "gb_classifier.fit(X_sfs, y)\n",
    "gbc_score_train_sfs = cross_val_score(gb_classifier, X_sfs, y, cv=4)\n",
    "print(\"4x CV Accuracy gbc on train data: {0:.2f}\".format(gbc_score_train_sfs.mean()))"
   ]
  },
  {
   "cell_type": "code",
   "execution_count": 29,
   "metadata": {},
   "outputs": [
    {
     "name": "stdout",
     "output_type": "stream",
     "text": [
      "0.6631016042780749\n"
     ]
    }
   ],
   "source": [
    "y_predicted = gb_classifier.predict(X_test_data1)\n",
    "accuracy = accuracy_score(y_test_data,y_predicted)\n",
    "print(accuracy)"
   ]
  },
  {
   "cell_type": "code",
   "execution_count": 30,
   "metadata": {},
   "outputs": [
    {
     "data": {
      "text/html": [
       "<div>\n",
       "<style scoped>\n",
       "    .dataframe tbody tr th:only-of-type {\n",
       "        vertical-align: middle;\n",
       "    }\n",
       "\n",
       "    .dataframe tbody tr th {\n",
       "        vertical-align: top;\n",
       "    }\n",
       "\n",
       "    .dataframe thead th {\n",
       "        text-align: right;\n",
       "    }\n",
       "</style>\n",
       "<table border=\"1\" class=\"dataframe\">\n",
       "  <thead>\n",
       "    <tr style=\"text-align: right;\">\n",
       "      <th></th>\n",
       "      <th>Train Accuracy</th>\n",
       "      <th>Test Accuracy</th>\n",
       "    </tr>\n",
       "  </thead>\n",
       "  <tbody>\n",
       "    <tr>\n",
       "      <th>0</th>\n",
       "      <td>0.8875</td>\n",
       "      <td>0.663102</td>\n",
       "    </tr>\n",
       "  </tbody>\n",
       "</table>\n",
       "</div>"
      ],
      "text/plain": [
       "   Train Accuracy  Test Accuracy\n",
       "0          0.8875       0.663102"
      ]
     },
     "execution_count": 30,
     "metadata": {},
     "output_type": "execute_result"
    }
   ],
   "source": [
    "data = {'Train Accuracy':[gbc_score_train_sfs.mean()], 'Test Accuracy' :[accuracy]}\n",
    "df_sfs = pd.DataFrame(data) \n",
    "df_sfs"
   ]
  },
  {
   "cell_type": "markdown",
   "metadata": {},
   "source": [
    "## Backwards elimination"
   ]
  },
  {
   "cell_type": "code",
   "execution_count": 31,
   "metadata": {},
   "outputs": [],
   "source": [
    "sbs = SFS(gb_classifier, \n",
    "          k_features=10, \n",
    "          forward=False, \n",
    "          floating=False, \n",
    "          scoring='accuracy',\n",
    "          cv=4,\n",
    "          n_jobs=-1)\n",
    "sbs = sbs.fit(X, y)"
   ]
  },
  {
   "cell_type": "code",
   "execution_count": 32,
   "metadata": {},
   "outputs": [
    {
     "name": "stdout",
     "output_type": "stream",
     "text": [
      "(0, 1, 2, 4, 8, 9, 11, 25, 29, 39)\n"
     ]
    }
   ],
   "source": [
    "print(sbs.k_feature_idx_)\n",
    "selected_features_2 = sbs.k_feature_idx_\n",
    "selected_features_2 = np.asarray(selected_features_2)"
   ]
  },
  {
   "cell_type": "code",
   "execution_count": 33,
   "metadata": {},
   "outputs": [],
   "source": [
    "X_test_data_sbs = test_data.iloc[ : , selected_features_2].values\n",
    "X_sbs = train_data.iloc[ : , selected_features_2].values"
   ]
  },
  {
   "cell_type": "code",
   "execution_count": 34,
   "metadata": {},
   "outputs": [
    {
     "name": "stdout",
     "output_type": "stream",
     "text": [
      "4x CV Accuracy gbc on train data: 0.87\n"
     ]
    }
   ],
   "source": [
    "gb_classifier = GradientBoostingClassifier()\n",
    "gb_classifier.fit(X_sbs, y)\n",
    "gbc_score_train_sbs = cross_val_score(gb_classifier, X_sbs, y, cv=4)\n",
    "print(\"4x CV Accuracy gbc on train data: {0:.2f}\".format(gbc_score_train_sbs.mean()))"
   ]
  },
  {
   "cell_type": "code",
   "execution_count": 35,
   "metadata": {},
   "outputs": [
    {
     "name": "stdout",
     "output_type": "stream",
     "text": [
      "0.7272727272727273\n"
     ]
    }
   ],
   "source": [
    "y_predicted = gb_classifier.predict(X_test_data_sbs)\n",
    "accuracy = accuracy_score(y_test_data,y_predicted)\n",
    "print(accuracy)"
   ]
  },
  {
   "cell_type": "code",
   "execution_count": 36,
   "metadata": {},
   "outputs": [
    {
     "data": {
      "text/html": [
       "<div>\n",
       "<style scoped>\n",
       "    .dataframe tbody tr th:only-of-type {\n",
       "        vertical-align: middle;\n",
       "    }\n",
       "\n",
       "    .dataframe tbody tr th {\n",
       "        vertical-align: top;\n",
       "    }\n",
       "\n",
       "    .dataframe thead th {\n",
       "        text-align: right;\n",
       "    }\n",
       "</style>\n",
       "<table border=\"1\" class=\"dataframe\">\n",
       "  <thead>\n",
       "    <tr style=\"text-align: right;\">\n",
       "      <th></th>\n",
       "      <th>Train Accuracy</th>\n",
       "      <th>Test Accuracy</th>\n",
       "    </tr>\n",
       "  </thead>\n",
       "  <tbody>\n",
       "    <tr>\n",
       "      <th>0</th>\n",
       "      <td>0.875</td>\n",
       "      <td>0.727273</td>\n",
       "    </tr>\n",
       "  </tbody>\n",
       "</table>\n",
       "</div>"
      ],
      "text/plain": [
       "   Train Accuracy  Test Accuracy\n",
       "0           0.875       0.727273"
      ]
     },
     "execution_count": 36,
     "metadata": {},
     "output_type": "execute_result"
    }
   ],
   "source": [
    "data = {'Train Accuracy':[(gbc_score_train_sbs.mean())], 'Test Accuracy' :[accuracy]}\n",
    "df_sbs = pd.DataFrame(data) \n",
    "df_sbs"
   ]
  },
  {
   "cell_type": "code",
   "execution_count": 37,
   "metadata": {},
   "outputs": [],
   "source": [
    "pdList = [df, df_ig, df_sfs, df_sbs] "
   ]
  },
  {
   "cell_type": "code",
   "execution_count": 38,
   "metadata": {},
   "outputs": [],
   "source": [
    "full_df = pd.concat(pdList)"
   ]
  },
  {
   "cell_type": "code",
   "execution_count": 39,
   "metadata": {},
   "outputs": [
    {
     "data": {
      "text/html": [
       "<div>\n",
       "<style scoped>\n",
       "    .dataframe tbody tr th:only-of-type {\n",
       "        vertical-align: middle;\n",
       "    }\n",
       "\n",
       "    .dataframe tbody tr th {\n",
       "        vertical-align: top;\n",
       "    }\n",
       "\n",
       "    .dataframe thead th {\n",
       "        text-align: right;\n",
       "    }\n",
       "</style>\n",
       "<table border=\"1\" class=\"dataframe\">\n",
       "  <thead>\n",
       "    <tr style=\"text-align: right;\">\n",
       "      <th></th>\n",
       "      <th>Train Accuracy</th>\n",
       "      <th>Test Accuracy</th>\n",
       "    </tr>\n",
       "  </thead>\n",
       "  <tbody>\n",
       "    <tr>\n",
       "      <th>0</th>\n",
       "      <td>0.8000</td>\n",
       "      <td>0.721925</td>\n",
       "    </tr>\n",
       "    <tr>\n",
       "      <th>0</th>\n",
       "      <td>0.7750</td>\n",
       "      <td>0.716578</td>\n",
       "    </tr>\n",
       "    <tr>\n",
       "      <th>0</th>\n",
       "      <td>0.8875</td>\n",
       "      <td>0.663102</td>\n",
       "    </tr>\n",
       "    <tr>\n",
       "      <th>0</th>\n",
       "      <td>0.8750</td>\n",
       "      <td>0.727273</td>\n",
       "    </tr>\n",
       "  </tbody>\n",
       "</table>\n",
       "</div>"
      ],
      "text/plain": [
       "   Train Accuracy  Test Accuracy\n",
       "0          0.8000       0.721925\n",
       "0          0.7750       0.716578\n",
       "0          0.8875       0.663102\n",
       "0          0.8750       0.727273"
      ]
     },
     "execution_count": 39,
     "metadata": {},
     "output_type": "execute_result"
    }
   ],
   "source": [
    "full_df"
   ]
  },
  {
   "cell_type": "code",
   "execution_count": 40,
   "metadata": {},
   "outputs": [],
   "source": [
    "subsets = ['none', 'info-gain', 'sfs', 'sbs' ]\n",
    "full_df['Type'] = subsets\n",
    "full_df = full_df.reset_index(drop=True)"
   ]
  },
  {
   "cell_type": "code",
   "execution_count": 41,
   "metadata": {},
   "outputs": [
    {
     "data": {
      "text/html": [
       "<div>\n",
       "<style scoped>\n",
       "    .dataframe tbody tr th:only-of-type {\n",
       "        vertical-align: middle;\n",
       "    }\n",
       "\n",
       "    .dataframe tbody tr th {\n",
       "        vertical-align: top;\n",
       "    }\n",
       "\n",
       "    .dataframe thead th {\n",
       "        text-align: right;\n",
       "    }\n",
       "</style>\n",
       "<table border=\"1\" class=\"dataframe\">\n",
       "  <thead>\n",
       "    <tr style=\"text-align: right;\">\n",
       "      <th></th>\n",
       "      <th>Train Accuracy</th>\n",
       "      <th>Test Accuracy</th>\n",
       "      <th>Type</th>\n",
       "    </tr>\n",
       "  </thead>\n",
       "  <tbody>\n",
       "    <tr>\n",
       "      <th>0</th>\n",
       "      <td>0.8000</td>\n",
       "      <td>0.721925</td>\n",
       "      <td>none</td>\n",
       "    </tr>\n",
       "    <tr>\n",
       "      <th>1</th>\n",
       "      <td>0.7750</td>\n",
       "      <td>0.716578</td>\n",
       "      <td>info-gain</td>\n",
       "    </tr>\n",
       "    <tr>\n",
       "      <th>2</th>\n",
       "      <td>0.8875</td>\n",
       "      <td>0.663102</td>\n",
       "      <td>sfs</td>\n",
       "    </tr>\n",
       "    <tr>\n",
       "      <th>3</th>\n",
       "      <td>0.8750</td>\n",
       "      <td>0.727273</td>\n",
       "      <td>sbs</td>\n",
       "    </tr>\n",
       "  </tbody>\n",
       "</table>\n",
       "</div>"
      ],
      "text/plain": [
       "   Train Accuracy  Test Accuracy       Type\n",
       "0          0.8000       0.721925       none\n",
       "1          0.7750       0.716578  info-gain\n",
       "2          0.8875       0.663102        sfs\n",
       "3          0.8750       0.727273        sbs"
      ]
     },
     "execution_count": 41,
     "metadata": {},
     "output_type": "execute_result"
    }
   ],
   "source": [
    "full_df"
   ]
  },
  {
   "cell_type": "code",
   "execution_count": 42,
   "metadata": {},
   "outputs": [
    {
     "data": {
      "text/plain": [
       "<matplotlib.axes._subplots.AxesSubplot at 0x2892ec47ba8>"
      ]
     },
     "execution_count": 42,
     "metadata": {},
     "output_type": "execute_result"
    },
    {
     "data": {
      "image/png": "[encoded data removed]",
      "text/plain": [
       "<Figure size 432x288 with 1 Axes>"
      ]
     },
     "metadata": {
      "needs_background": "light"
     },
     "output_type": "display_data"
    }
   ],
   "source": [
    "full_df.plot(x=\"Type\", y=[\"Train Accuracy\", \"Test Accuracy\"], kind=\"bar\")"
   ]
  },
  {
   "cell_type": "code",
   "execution_count": 43,
   "metadata": {},
   "outputs": [
    {
     "data": {
      "text/plain": [
       "Counter({1: 172, 0: 15})"
      ]
     },
     "execution_count": 43,
     "metadata": {},
     "output_type": "execute_result"
    }
   ],
   "source": [
    "collections.Counter(y_test_data)"
   ]
  },
  {
   "cell_type": "markdown",
   "metadata": {},
   "source": [
    "# Analysis\n",
    "* Looking at the results when no feature subset selection was used we see that it consistently has a train accuracy of around 0.76-0.78 every run and a test accuracy of 0.70-.72. The test accuracy is good considering 90% of the test data DIAGNOSIS values are 1.\n",
    "\n",
    "* Using the information gain filter we see that the values of the training and test set tend to fluctuate quite a bit and aren't very consistent. The reason for this incosistency could be due to the fact that different features might suit our classifier better but information gain does not take this into account. Also the features are considered in isolation from one another so there might be certain features in our data where it needs another feature to boost the accuracy. \n",
    "\n",
    "* The sequential forward searching algorithm always has a better training accuracy than the training accuracy with no feature subset selection. That being said the test accuracy fluctuates a lot. Sometimes it is worse than no subset selection and sometimes it is better. What seems to be happening is the wrapper is finding the best feature subset for the training data but this feature subset doesn't always work well for the test data.\n",
    "\n",
    "* Backwards elimination, like sequential forward searching, always has a better training accuracy than when no feature subsets are selected. However the algorithm is consistently better on the test data in comparison to SBS and also it generally has a better test accuracy than when no feature subsets are selected. "
   ]
  },
  {
   "cell_type": "code",
   "execution_count": null,
   "metadata": {},
   "outputs": [],
   "source": []
  }
 ],
 "metadata": {
  "kernelspec": {
   "display_name": "Python 3",
   "language": "python",
   "name": "python3"
  },
  "language_info": {
   "codemirror_mode": {
    "name": "ipython",
    "version": 3
   },
   "file_extension": ".py",
   "mimetype": "text/x-python",
   "name": "python",
   "nbconvert_exporter": "python",
   "pygments_lexer": "ipython3",
   "version": "3.7.3"
  }
 },
 "nbformat": 4,
 "nbformat_minor": 2
}
